{
  "nbformat": 4,
  "nbformat_minor": 0,
  "metadata": {
    "colab": {
      "name": "newyear_research.ipynb",
      "provenance": [],
      "collapsed_sections": []
    },
    "kernelspec": {
      "name": "python3",
      "display_name": "Python 3"
    }
  },
  "cells": [
    {
      "cell_type": "markdown",
      "metadata": {
        "id": "nnIx1MoSYDSt"
      },
      "source": [
        "正月の代名詞ともいえる食べ物といえば，餅である．餅は，老若男女問わず多くの人に好まれてきた．しかし，それと同様に餅は多くの人を死に追いやった経歴をもつ．\r\n",
        "そこで，本レポートでは，餅による死者数の推移を機械学習を用いて予測できるかを検討したい．  \r\n",
        "しかし，都合よく餅の死者数の推移のデータが見つからなかった．そのため，代替データとして，厚生労働省の人口動態調査から，不慮の事故の「その他の不慮の窒息」のうち，「気道閉塞を生じた食物の誤えん」による死亡者数を抽出し，使用することする．\r\n",
        "なお，使用したデータは[政府統計の総合窓口](https://www.e-stat.go.jp/)から参照した．また，上記のデータについて，今回はサンプル数の多い高齢者(65歳以上)のデータを対象に予測を試みる．"
      ]
    },
    {
      "cell_type": "markdown",
      "metadata": {
        "id": "_XO_ZnoJa0TX"
      },
      "source": [
        "まず，今回使用するライブラリをインポートする．今回は，時系列データの予測にKerasのLSTMを用いる．"
      ]
    },
    {
      "cell_type": "code",
      "metadata": {
        "id": "U2hOYZ7xazuf"
      },
      "source": [
        "import matplotlib.pyplot as plt\r\n",
        "import numpy as np\r\n",
        "\r\n",
        "import keras\r\n",
        "from keras.models import Sequential\r\n",
        "from keras.layers import Dense, Activation, LSTM\r\n",
        "from keras.optimizers import Adam\r\n",
        "import tensorflow as tf\r\n",
        "\r\n",
        "%matplotlib inline"
      ],
      "execution_count": 1,
      "outputs": []
    },
    {
      "cell_type": "markdown",
      "metadata": {
        "id": "tpbQsVdJgXZo"
      },
      "source": [
        "今回使用するデータを読み込んでおく．なお，ここではすべてベタ書きで入力しているが，使用するデータは，\"data.csv\"と同じなので参照されたい．\r\n",
        "ここでは，1列目が年度(平成)，2列目が65-80の死者数，3列目が80-の死者数，4列目が2列目+3列目，すなわち高齢者の死者数を表す．"
      ]
    },
    {
      "cell_type": "code",
      "metadata": {
        "id": "_k6d6M8gagY5"
      },
      "source": [
        "data = np.array([[   7., 1329., 1770., 3099.],\r\n",
        "       [   8., 1260., 1728., 2988.],\r\n",
        "       [   9., 1228., 1786., 3014.],\r\n",
        "       [  10., 1332., 1942., 3274.],\r\n",
        "       [  11., 1417., 1979., 3396.],\r\n",
        "       [  12., 1353., 1967., 3320.],\r\n",
        "       [  13., 1454., 2035., 3489.],\r\n",
        "       [  14., 1406., 2129., 3535.],\r\n",
        "       [  15., 1434., 2153., 3587.],\r\n",
        "       [  16., 1424., 2144., 3568.],\r\n",
        "       [  17., 1467., 2329., 3796.],\r\n",
        "       [  18., 1371., 2358., 3729.],\r\n",
        "       [  19., 1344., 2449., 3793.],\r\n",
        "       [  20., 1418., 2664., 4082.],\r\n",
        "       [  21., 1370., 2687., 4057.],\r\n",
        "       [  22., 1423., 2826., 4249.],\r\n",
        "       [  23., 1365., 2846., 4211.],\r\n",
        "       [  24., 1461., 3053., 4514.],\r\n",
        "       [  25., 1379., 2815., 4194.],\r\n",
        "       [  26., 1457., 2853., 4310.],\r\n",
        "       [  27., 1303., 2900., 4203.],\r\n",
        "       [  28., 1358., 3012., 4370.],\r\n",
        "       [  29., 1275., 3001., 4276.]])"
      ],
      "execution_count": 2,
      "outputs": []
    },
    {
      "cell_type": "markdown",
      "metadata": {
        "id": "6d4xHX25hAyq"
      },
      "source": [
        "次に，Kerasで入力として使用する，データのフォーマットを行う．"
      ]
    },
    {
      "cell_type": "code",
      "metadata": {
        "id": "DHnmObzGhG8S"
      },
      "source": [
        "input_data = data[:, 3]\r\n",
        "input_min = input_data.min()\r\n",
        "input_range = input_data.max() - input_min\r\n",
        "input_data = (input_data - input_min) / input_range\r\n"
      ],
      "execution_count": 3,
      "outputs": []
    },
    {
      "cell_type": "markdown",
      "metadata": {
        "id": "6iH8nRnIpeRv"
      },
      "source": [
        "その後，教師データの作成を行う．今回は，1年分のデータ予測に直近の6年間のデータを使用することとする．なお，ここの処理は[Kerasで最短(?)LSTM実装 - 雑記 in hibernation](https://toeming.hatenablog.com/entry/2020/06/02/231233)を参考にした．"
      ]
    },
    {
      "cell_type": "code",
      "metadata": {
        "id": "kNmP4teKpd6K"
      },
      "source": [
        "def make_dataset(low_data, maxlen):\r\n",
        "\r\n",
        "    data, target = [], []\r\n",
        "\r\n",
        "    for i in range(len(low_data)-maxlen):\r\n",
        "        data.append(low_data[i:i + maxlen])\r\n",
        "        target.append(low_data[i + maxlen])\r\n",
        "\r\n",
        "    re_data = np.array(data).reshape(len(data), maxlen, 1)\r\n",
        "    re_target = np.array(target).reshape(len(data), 1)\r\n",
        "\r\n",
        "    return re_data, re_target\r\n",
        "\r\n",
        "window_size = 6\r\n",
        "x, y = make_dataset(input_data, window_size)"
      ],
      "execution_count": 4,
      "outputs": []
    },
    {
      "cell_type": "markdown",
      "metadata": {
        "id": "rhy37QgQis4F"
      },
      "source": [
        "そして，モデルの構築と予測を行う．ここでは，次の1年間について予測を行う．なお，パラメータに関しては特にチューニングを行わなず，適当に値を設定している．"
      ]
    },
    {
      "cell_type": "code",
      "metadata": {
        "colab": {
          "base_uri": "https://localhost:8080/"
        },
        "id": "Sp2fxQXUi22T",
        "outputId": "f1c26e83-c729-4b56-a392-30324cc45809"
      },
      "source": [
        "model = Sequential()\r\n",
        "model.add(LSTM(10, batch_input_shape=(None, window_size, 1))) # LSTM 50層\r\n",
        "model.add(Dense(1))\r\n",
        "model.compile(loss='mean_squared_error', optimizer=Adam() , metrics = ['accuracy'])\r\n",
        "model.fit(x, y, epochs=100, verbose=2)\r\n",
        "Predict = model.predict(input_data[None, input_data.shape[0]-6:, None])\r\n"
      ],
      "execution_count": null,
      "outputs": [
        {
          "output_type": "stream",
          "text": [
            "Epoch 1/100\n",
            "1/1 - 2s - loss: 0.7350 - accuracy: 0.0000e+00\n",
            "Epoch 2/100\n",
            "1/1 - 0s - loss: 0.7177 - accuracy: 0.0000e+00\n",
            "Epoch 3/100\n",
            "1/1 - 0s - loss: 0.7007 - accuracy: 0.0000e+00\n",
            "Epoch 4/100\n",
            "1/1 - 0s - loss: 0.6840 - accuracy: 0.0000e+00\n",
            "Epoch 5/100\n",
            "1/1 - 0s - loss: 0.6676 - accuracy: 0.0000e+00\n",
            "Epoch 6/100\n",
            "1/1 - 0s - loss: 0.6515 - accuracy: 0.0000e+00\n",
            "Epoch 7/100\n",
            "1/1 - 0s - loss: 0.6356 - accuracy: 0.0000e+00\n",
            "Epoch 8/100\n",
            "1/1 - 0s - loss: 0.6201 - accuracy: 0.0000e+00\n",
            "Epoch 9/100\n",
            "1/1 - 0s - loss: 0.6048 - accuracy: 0.0000e+00\n",
            "Epoch 10/100\n",
            "1/1 - 0s - loss: 0.5898 - accuracy: 0.0000e+00\n",
            "Epoch 11/100\n",
            "1/1 - 0s - loss: 0.5750 - accuracy: 0.0000e+00\n",
            "Epoch 12/100\n",
            "1/1 - 0s - loss: 0.5606 - accuracy: 0.0000e+00\n",
            "Epoch 13/100\n",
            "1/1 - 0s - loss: 0.5464 - accuracy: 0.0000e+00\n",
            "Epoch 14/100\n",
            "1/1 - 0s - loss: 0.5325 - accuracy: 0.0000e+00\n",
            "Epoch 15/100\n",
            "1/1 - 0s - loss: 0.5188 - accuracy: 0.0000e+00\n",
            "Epoch 16/100\n",
            "1/1 - 0s - loss: 0.5053 - accuracy: 0.0000e+00\n",
            "Epoch 17/100\n",
            "1/1 - 0s - loss: 0.4922 - accuracy: 0.0000e+00\n",
            "Epoch 18/100\n",
            "1/1 - 0s - loss: 0.4792 - accuracy: 0.0000e+00\n",
            "Epoch 19/100\n",
            "1/1 - 0s - loss: 0.4665 - accuracy: 0.0000e+00\n",
            "Epoch 20/100\n",
            "1/1 - 0s - loss: 0.4540 - accuracy: 0.0000e+00\n",
            "Epoch 21/100\n",
            "1/1 - 0s - loss: 0.4417 - accuracy: 0.0000e+00\n",
            "Epoch 22/100\n",
            "1/1 - 0s - loss: 0.4296 - accuracy: 0.0000e+00\n",
            "Epoch 23/100\n",
            "1/1 - 0s - loss: 0.4177 - accuracy: 0.0000e+00\n",
            "Epoch 24/100\n",
            "1/1 - 0s - loss: 0.4061 - accuracy: 0.0000e+00\n",
            "Epoch 25/100\n",
            "1/1 - 0s - loss: 0.3946 - accuracy: 0.0000e+00\n",
            "Epoch 26/100\n",
            "1/1 - 0s - loss: 0.3833 - accuracy: 0.0000e+00\n",
            "Epoch 27/100\n",
            "1/1 - 0s - loss: 0.3722 - accuracy: 0.0000e+00\n",
            "Epoch 28/100\n",
            "1/1 - 0s - loss: 0.3612 - accuracy: 0.0000e+00\n",
            "Epoch 29/100\n",
            "1/1 - 0s - loss: 0.3505 - accuracy: 0.0000e+00\n",
            "Epoch 30/100\n",
            "1/1 - 0s - loss: 0.3399 - accuracy: 0.0000e+00\n",
            "Epoch 31/100\n",
            "1/1 - 0s - loss: 0.3294 - accuracy: 0.0000e+00\n",
            "Epoch 32/100\n",
            "1/1 - 0s - loss: 0.3192 - accuracy: 0.0000e+00\n",
            "Epoch 33/100\n",
            "1/1 - 0s - loss: 0.3091 - accuracy: 0.0000e+00\n",
            "Epoch 34/100\n",
            "1/1 - 0s - loss: 0.2991 - accuracy: 0.0000e+00\n",
            "Epoch 35/100\n",
            "1/1 - 0s - loss: 0.2893 - accuracy: 0.0000e+00\n",
            "Epoch 36/100\n",
            "1/1 - 0s - loss: 0.2797 - accuracy: 0.0000e+00\n",
            "Epoch 37/100\n",
            "1/1 - 0s - loss: 0.2702 - accuracy: 0.0000e+00\n",
            "Epoch 38/100\n",
            "1/1 - 0s - loss: 0.2608 - accuracy: 0.0000e+00\n",
            "Epoch 39/100\n",
            "1/1 - 0s - loss: 0.2516 - accuracy: 0.0000e+00\n",
            "Epoch 40/100\n",
            "1/1 - 0s - loss: 0.2426 - accuracy: 0.0000e+00\n",
            "Epoch 41/100\n",
            "1/1 - 0s - loss: 0.2337 - accuracy: 0.0000e+00\n",
            "Epoch 42/100\n",
            "1/1 - 0s - loss: 0.2249 - accuracy: 0.0000e+00\n",
            "Epoch 43/100\n",
            "1/1 - 0s - loss: 0.2163 - accuracy: 0.0000e+00\n",
            "Epoch 44/100\n",
            "1/1 - 0s - loss: 0.2079 - accuracy: 0.0000e+00\n",
            "Epoch 45/100\n",
            "1/1 - 0s - loss: 0.1995 - accuracy: 0.0000e+00\n",
            "Epoch 46/100\n",
            "1/1 - 0s - loss: 0.1914 - accuracy: 0.0000e+00\n",
            "Epoch 47/100\n",
            "1/1 - 0s - loss: 0.1834 - accuracy: 0.0000e+00\n",
            "Epoch 48/100\n",
            "1/1 - 0s - loss: 0.1755 - accuracy: 0.0000e+00\n",
            "Epoch 49/100\n",
            "1/1 - 0s - loss: 0.1679 - accuracy: 0.0000e+00\n",
            "Epoch 50/100\n",
            "1/1 - 0s - loss: 0.1603 - accuracy: 0.0000e+00\n",
            "Epoch 51/100\n",
            "1/1 - 0s - loss: 0.1530 - accuracy: 0.0000e+00\n",
            "Epoch 52/100\n",
            "1/1 - 0s - loss: 0.1457 - accuracy: 0.0000e+00\n",
            "Epoch 53/100\n",
            "1/1 - 0s - loss: 0.1387 - accuracy: 0.0000e+00\n",
            "Epoch 54/100\n",
            "1/1 - 0s - loss: 0.1318 - accuracy: 0.0000e+00\n",
            "Epoch 55/100\n",
            "1/1 - 0s - loss: 0.1251 - accuracy: 0.0000e+00\n",
            "Epoch 56/100\n",
            "1/1 - 0s - loss: 0.1186 - accuracy: 0.0000e+00\n",
            "Epoch 57/100\n",
            "1/1 - 0s - loss: 0.1123 - accuracy: 0.0000e+00\n",
            "Epoch 58/100\n",
            "1/1 - 0s - loss: 0.1061 - accuracy: 0.0000e+00\n",
            "Epoch 59/100\n",
            "1/1 - 0s - loss: 0.1001 - accuracy: 0.0000e+00\n",
            "Epoch 60/100\n",
            "1/1 - 0s - loss: 0.0943 - accuracy: 0.0000e+00\n",
            "Epoch 61/100\n",
            "1/1 - 0s - loss: 0.0887 - accuracy: 0.0000e+00\n",
            "Epoch 62/100\n",
            "1/1 - 0s - loss: 0.0833 - accuracy: 0.0000e+00\n",
            "Epoch 63/100\n",
            "1/1 - 0s - loss: 0.0781 - accuracy: 0.0000e+00\n",
            "Epoch 64/100\n",
            "1/1 - 0s - loss: 0.0731 - accuracy: 0.0000e+00\n",
            "Epoch 65/100\n",
            "1/1 - 0s - loss: 0.0683 - accuracy: 0.0000e+00\n",
            "Epoch 66/100\n",
            "1/1 - 0s - loss: 0.0637 - accuracy: 0.0588\n",
            "Epoch 67/100\n",
            "1/1 - 0s - loss: 0.0593 - accuracy: 0.0588\n",
            "Epoch 68/100\n",
            "1/1 - 0s - loss: 0.0551 - accuracy: 0.0588\n",
            "Epoch 69/100\n",
            "1/1 - 0s - loss: 0.0511 - accuracy: 0.0588\n",
            "Epoch 70/100\n",
            "1/1 - 0s - loss: 0.0474 - accuracy: 0.0588\n",
            "Epoch 71/100\n",
            "1/1 - 0s - loss: 0.0438 - accuracy: 0.0588\n",
            "Epoch 72/100\n",
            "1/1 - 0s - loss: 0.0405 - accuracy: 0.0588\n",
            "Epoch 73/100\n",
            "1/1 - 0s - loss: 0.0374 - accuracy: 0.0588\n",
            "Epoch 74/100\n",
            "1/1 - 0s - loss: 0.0344 - accuracy: 0.0588\n",
            "Epoch 75/100\n",
            "1/1 - 0s - loss: 0.0317 - accuracy: 0.0588\n",
            "Epoch 76/100\n",
            "1/1 - 0s - loss: 0.0292 - accuracy: 0.0588\n",
            "Epoch 77/100\n",
            "1/1 - 0s - loss: 0.0269 - accuracy: 0.0588\n",
            "Epoch 78/100\n",
            "1/1 - 0s - loss: 0.0247 - accuracy: 0.0588\n",
            "Epoch 79/100\n",
            "1/1 - 0s - loss: 0.0228 - accuracy: 0.0588\n",
            "Epoch 80/100\n",
            "1/1 - 0s - loss: 0.0211 - accuracy: 0.0588\n",
            "Epoch 81/100\n",
            "1/1 - 0s - loss: 0.0195 - accuracy: 0.0588\n",
            "Epoch 82/100\n",
            "1/1 - 0s - loss: 0.0181 - accuracy: 0.0588\n",
            "Epoch 83/100\n",
            "1/1 - 0s - loss: 0.0168 - accuracy: 0.0588\n",
            "Epoch 84/100\n",
            "1/1 - 0s - loss: 0.0157 - accuracy: 0.0588\n",
            "Epoch 85/100\n",
            "1/1 - 0s - loss: 0.0148 - accuracy: 0.0588\n",
            "Epoch 86/100\n",
            "1/1 - 0s - loss: 0.0140 - accuracy: 0.0588\n",
            "Epoch 87/100\n",
            "1/1 - 0s - loss: 0.0133 - accuracy: 0.0588\n",
            "Epoch 88/100\n",
            "1/1 - 0s - loss: 0.0127 - accuracy: 0.0588\n",
            "Epoch 89/100\n",
            "1/1 - 0s - loss: 0.0122 - accuracy: 0.0588\n",
            "Epoch 90/100\n",
            "1/1 - 0s - loss: 0.0119 - accuracy: 0.0588\n",
            "Epoch 91/100\n",
            "1/1 - 0s - loss: 0.0116 - accuracy: 0.0588\n",
            "Epoch 92/100\n",
            "1/1 - 0s - loss: 0.0113 - accuracy: 0.0588\n",
            "Epoch 93/100\n",
            "1/1 - 0s - loss: 0.0111 - accuracy: 0.0588\n",
            "Epoch 94/100\n",
            "1/1 - 0s - loss: 0.0110 - accuracy: 0.0588\n",
            "Epoch 95/100\n",
            "1/1 - 0s - loss: 0.0110 - accuracy: 0.0588\n",
            "Epoch 96/100\n",
            "1/1 - 0s - loss: 0.0109 - accuracy: 0.0588\n",
            "Epoch 97/100\n",
            "1/1 - 0s - loss: 0.0109 - accuracy: 0.0588\n",
            "Epoch 98/100\n",
            "1/1 - 0s - loss: 0.0109 - accuracy: 0.0588\n",
            "Epoch 99/100\n",
            "1/1 - 0s - loss: 0.0109 - accuracy: 0.0588\n",
            "Epoch 100/100\n",
            "1/1 - 0s - loss: 0.0109 - accuracy: 0.0588\n"
          ],
          "name": "stdout"
        }
      ]
    },
    {
      "cell_type": "markdown",
      "metadata": {
        "id": "806GAtsDw_SR"
      },
      "source": [
        "最後に，モデルの予測の可視化及び，平成30年度の死者数の予測を出力する．\r\n",
        "なお，[0-1]で正規化したデータから学習を行っているため，出力には入力データと逆の変換を行っている．"
      ]
    },
    {
      "cell_type": "code",
      "metadata": {
        "colab": {
          "base_uri": "https://localhost:8080/",
          "height": 297
        },
        "id": "qxtTHQaXsWJn",
        "outputId": "90d3299d-ac82-48b3-bfcb-72176c1f002b"
      },
      "source": [
        "y_predict = model.predict(x)\r\n",
        "plt.plot(data[:, 0], (input_data * input_range) + input_min, label = \"Observed\")\r\n",
        "plt.plot(np.hstack([data[6:, 0], [30]]), (np.hstack([y_predict.squeeze(), Predict.squeeze()]) * input_range) + input_min, label = \"Predicted\")\r\n",
        "plt.xlabel(\"year\")\r\n",
        "plt.ylabel(\"number of deaths\")\r\n",
        "plt.legend()\r\n",
        "plt.show()\r\n",
        "print(\"平成30年の予測死者は\" + str(((Predict.squeeze() * input_range) + input_min).astype(int)) + \"人です\")"
      ],
      "execution_count": null,
      "outputs": [
        {
          "output_type": "display_data",
          "data": {
            "image/png": "[encoded data removed]",
            "text/plain": [
              "<Figure size 432x288 with 1 Axes>"
            ]
          },
          "metadata": {
            "tags": [],
            "needs_background": "light"
          }
        },
        {
          "output_type": "stream",
          "text": [
            "平成30年の予測死者は4323人です\n"
          ],
          "name": "stdout"
        }
      ]
    },
    {
      "cell_type": "markdown",
      "metadata": {
        "id": "AhXU5ekpxaZu"
      },
      "source": [
        "あまり深く考えずにモデルの構築を行ったことと，入力データの少なさからか，あまりうまく近似できていないことが見て取れる．ただ，死者数が年々増加している傾向を，LSTMでなんとなくつかめているのではないだろうか．"
      ]
    }
  ]
}